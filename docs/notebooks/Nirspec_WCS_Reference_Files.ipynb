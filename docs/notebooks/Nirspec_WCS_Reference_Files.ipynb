{
 "cells": [
  {
   "cell_type": "markdown",
   "metadata": {},
   "source": [
    "### How to generate the Nirspec WCS reference files"
   ]
  },
  {
   "cell_type": "markdown",
   "metadata": {},
   "source": [
    "The code assumes the Nirspec model is in the typical directory structure that has been used so far.\n",
    "\n",
    "For example, assuming the model is in a directory called `nirspec_model`, what is inside this directory is:\n",
    "\n",
    "    nirspec_model/\n",
    "    nirspec_model/CoordTransform\n",
    "    nirspec_model/CoordTransform/*.pcf\n",
    "    ...\n",
    "    nirspec_model/Description/\n",
    "    nirspec_model/Description/*.dis\n",
    "    ...\n",
    "    \n",
    "The top level directory, *nirspec_model*,  is passed to the function generationg the files."
   ]
  },
  {
   "cell_type": "code",
   "execution_count": null,
   "metadata": {
    "collapsed": false
   },
   "outputs": [],
   "source": [
    "from jwreftools.nirspec import generate_references\n",
    "\n",
    "model_dir = \"<full_path_to>/nirspec_model\"\n",
    "\n",
    "generate_references(model_dir)"
   ]
  },
  {
   "cell_type": "markdown",
   "metadata": {},
   "source": [
    "The above command will generate the asdf files from the IDT files."
   ]
  }
 ],
 "metadata": {
  "anaconda-cloud": {},
  "kernelspec": {
   "display_name": "Python (jwstdev)",
   "language": "python",
   "name": "jwstdev"
  },
  "language_info": {
   "codemirror_mode": {
    "name": "ipython",
    "version": 3
   },
   "file_extension": ".py",
   "mimetype": "text/x-python",
   "name": "python",
   "nbconvert_exporter": "python",
   "pygments_lexer": "ipython3",
   "version": "3.5.1"
  }
 },
 "nbformat": 4,
 "nbformat_minor": 0
}
